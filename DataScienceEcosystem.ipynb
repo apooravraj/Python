{
 "cells": [
  {
   "cell_type": "markdown",
   "id": "2e7802a9-cc3a-48d8-8c98-ebec9b51000e",
   "metadata": {},
   "source": [
    "# Data Science Tools and Ecosystem"
   ]
  },
  {
   "cell_type": "markdown",
   "id": "7ba9eb18-4151-4842-85ed-6063fdfd0ba3",
   "metadata": {},
   "source": [
    "In this notebook, Data Science Tools and Ecosystem are summarized"
   ]
  },
  {
   "cell_type": "markdown",
   "id": "e030300c-aa5d-463d-95a7-7040cdeab8f0",
   "metadata": {},
   "source": [
    "Some of the popular languages that Data Scientists use are:\n",
    "1. Python\n",
    "2. R\n",
    "3. SQL\n",
    "4. C++\n",
    "5. Java etc..:"
   ]
  },
  {
   "cell_type": "markdown",
   "id": "1e222403-2282-4be8-a76c-39aa008cfb79",
   "metadata": {},
   "source": [
    "Some of the commonly used libraries used by the Data Scientists include:\n",
    "1. Tenserflow\n",
    "2. NumPy.\n",
    "3. SciPy.\n",
    "4. Pandas.\n",
    "5. Matplotlib.\n",
    "6. PyTorch etc..;\n"
   ]
  },
  {
   "cell_type": "markdown",
   "id": "527173a3-7e3e-475b-a6e6-64a15faef788",
   "metadata": {},
   "source": [
    "|Data Science Tools|\n",
    "|---|\n",
    "|SAS|\n",
    "|Apache Hadoop|\n",
    "|Tenser Flow|"
   ]
  },
  {
   "cell_type": "markdown",
   "id": "6d6bed3e-f9c9-4c19-9f6b-f409abc7e023",
   "metadata": {},
   "source": [
    "### Below are a few examples of evaluating arithmetic expressions in Python."
   ]
  },
  {
   "cell_type": "code",
   "execution_count": 1,
   "id": "f0779a37-4af6-4b1a-b00e-e838a3db6dfc",
   "metadata": {},
   "outputs": [
    {
     "data": {
      "text/plain": [
       "17"
      ]
     },
     "execution_count": 1,
     "metadata": {},
     "output_type": "execute_result"
    }
   ],
   "source": [
    "#this is a common arithmetic example to multiply and then add integers\n",
    "(3*4)+5"
   ]
  },
  {
   "cell_type": "code",
   "execution_count": 2,
   "id": "0c808c74-6582-4524-9d39-73fa6a1f7f67",
   "metadata": {},
   "outputs": [
    {
     "data": {
      "text/plain": [
       "3.3333333333333335"
      ]
     },
     "execution_count": 2,
     "metadata": {},
     "output_type": "execute_result"
    }
   ],
   "source": [
    "#This will convert 200 minutes to hours by diving by 60\n",
    "200/60"
   ]
  },
  {
   "cell_type": "markdown",
   "id": "f2358c90-c661-499b-ac36-c361669ca992",
   "metadata": {},
   "source": [
    "_Objective_\n",
    "* List popular Language for Data Science\n",
    "* List popular Library for Data Science.\n",
    "* List of well known Data Science Tools\n",
    "* How to provide comments in the cell"
   ]
  },
  {
   "cell_type": "markdown",
   "id": "9414e713-1b2e-4212-a444-f2e391bb471d",
   "metadata": {},
   "source": [
    "## Author\n",
    "Rahul kumar Agrawal\n"
   ]
  }
 ],
 "metadata": {
  "kernelspec": {
   "display_name": "Python 3 (ipykernel)",
   "language": "python",
   "name": "python3"
  },
  "language_info": {
   "codemirror_mode": {
    "name": "ipython",
    "version": 3
   },
   "file_extension": ".py",
   "mimetype": "text/x-python",
   "name": "python",
   "nbconvert_exporter": "python",
   "pygments_lexer": "ipython3",
   "version": "3.12.4"
  }
 },
 "nbformat": 4,
 "nbformat_minor": 5
}
